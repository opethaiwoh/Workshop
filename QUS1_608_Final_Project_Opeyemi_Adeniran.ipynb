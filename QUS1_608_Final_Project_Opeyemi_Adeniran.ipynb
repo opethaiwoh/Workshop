{
  "nbformat": 4,
  "nbformat_minor": 0,
  "metadata": {
    "colab": {
      "provenance": [],
      "include_colab_link": true
    },
    "kernelspec": {
      "name": "python3",
      "display_name": "Python 3"
    },
    "language_info": {
      "name": "python"
    }
  },
  "cells": [
    {
      "cell_type": "markdown",
      "metadata": {
        "id": "view-in-github",
        "colab_type": "text"
      },
      "source": [
        "<a href=\"https://colab.research.google.com/github/opethaiwoh/Workshop/blob/main/QUS1_608_Final_Project_Opeyemi_Adeniran.ipynb\" target=\"_parent\"><img src=\"https://colab.research.google.com/assets/colab-badge.svg\" alt=\"Open In Colab\"/></a>"
      ]
    },
    {
      "cell_type": "code",
      "source": [
        "import numpy as np\n",
        "import tensorflow as tf\n",
        "from tensorflow import keras"
      ],
      "metadata": {
        "id": "kWZ9Kwiqetfb"
      },
      "execution_count": null,
      "outputs": []
    },
    {
      "cell_type": "code",
      "source": [
        "from google.colab import drive\n",
        "drive.mount('/content/drive')"
      ],
      "metadata": {
        "colab": {
          "base_uri": "https://localhost:8080/"
        },
        "id": "MSJDeL8JA4yI",
        "outputId": "07108422-88c8-4629-8d2d-6d9fd3f06931"
      },
      "execution_count": null,
      "outputs": [
        {
          "output_type": "stream",
          "name": "stdout",
          "text": [
            "Drive already mounted at /content/drive; to attempt to forcibly remount, call drive.mount(\"/content/drive\", force_remount=True).\n"
          ]
        }
      ]
    },
    {
      "cell_type": "markdown",
      "source": [
        "### For every image in the dataset,  resize it to 64×64 pixels. "
      ],
      "metadata": {
        "id": "f6-99HZ3ZsJ0"
      }
    },
    {
      "cell_type": "code",
      "source": [
        "import glob\n",
        "import cv2\n",
        "import numpy as np\n",
        "x = []\n",
        "y = []\n",
        "\n",
        "for folder in glob.glob(f'{\"/content/drive/MyDrive/FINAL PROJECT/COSC 680_FINAL PROJECT/animals\"}/*'):\n",
        "  image_cat = folder[68:]\n",
        "  for file in glob.glob(f'{folder}/*'):\n",
        "    animal = cv2.imread(file)\n",
        "    animal = cv2.resize(animal, (64,64), interpolation=cv2.INTER_AREA)\n",
        "    x.append(animal)\n",
        "    y.append(image_cat)\n",
        "\n",
        "x=np.array(x)\n",
        "y=np.array(y)\n"
      ],
      "metadata": {
        "id": "NyEhI4kfDa1v"
      },
      "execution_count": null,
      "outputs": []
    },
    {
      "cell_type": "markdown",
      "source": [
        "### a) Implement a CNN architecture (model) that contains only a few layers — the entire network architecture can be summarized as:"
      ],
      "metadata": {
        "id": "HavIG2vcWir8"
      }
    },
    {
      "cell_type": "code",
      "source": [
        "from keras.models import Sequential\n",
        "from keras.layers import Dense, Dropout, Flatten, Conv2D, MaxPooling2D\n",
        "\n",
        "model = Sequential()\n",
        "model.add(Conv2D(32, kernel_size=(3, 3), activation='relu', input_shape=(64, 64, 3)))\n",
        "model.add(Conv2D(64, (3, 3), activation='relu'))\n",
        "model.add(MaxPooling2D(pool_size=(2, 2)))\n",
        "model.add(Conv2D(64, (3, 3), activation='relu'))\n",
        "model.add(Flatten())\n",
        "model.add(Dense(128, activation='relu'))\n",
        "model.add(Dense(3, activation='softmax'))"
      ],
      "metadata": {
        "id": "YBeY8Wm4KKvb"
      },
      "execution_count": null,
      "outputs": []
    },
    {
      "cell_type": "markdown",
      "source": [
        "### b) Perform your training (80%) and testing split (20%), along with one-hot encoding the labels. "
      ],
      "metadata": {
        "id": "28vKISDTWYVH"
      }
    },
    {
      "cell_type": "code",
      "source": [
        "from sklearn.preprocessing import LabelEncoder\n",
        "from keras.utils import to_categorical\n",
        "from sklearn.model_selection import train_test_split\n",
        "\n",
        "\n",
        "enc = LabelEncoder()\n",
        "\n",
        "y_tranformed = enc.fit_transform(y)\n",
        "\n",
        "y_oh = to_categorical(y_tranformed)\n",
        "\n",
        "(x_train, x_test, y_train, y_test) = train_test_split(x, y_oh, train_size=0.8)"
      ],
      "metadata": {
        "id": "2WHmtrIqIaqW"
      },
      "execution_count": null,
      "outputs": []
    },
    {
      "cell_type": "code",
      "source": [
        "x_test = x_test/255\n",
        "x_train = x_train/255"
      ],
      "metadata": {
        "id": "qbX_sdx9Y90A"
      },
      "execution_count": null,
      "outputs": []
    },
    {
      "cell_type": "code",
      "source": [
        "y_train"
      ],
      "metadata": {
        "colab": {
          "base_uri": "https://localhost:8080/"
        },
        "id": "hrQR_0ESJsEp",
        "outputId": "a0bbc3fc-7b97-4742-df79-724c5da0dcc5"
      },
      "execution_count": null,
      "outputs": [
        {
          "output_type": "execute_result",
          "data": {
            "text/plain": [
              "array([[0., 1., 0.],\n",
              "       [0., 1., 0.],\n",
              "       [0., 1., 0.],\n",
              "       ...,\n",
              "       [1., 0., 0.],\n",
              "       [0., 0., 1.],\n",
              "       [0., 0., 1.]], dtype=float32)"
            ]
          },
          "metadata": {},
          "execution_count": 98
        }
      ]
    },
    {
      "cell_type": "markdown",
      "source": [
        "### c) Compile the model by  initialize  with ‘SGD’ optimizer and using a learning rate of  0.005 and cross-entropy as the loss function."
      ],
      "metadata": {
        "id": "3sCeR5h9WGR5"
      }
    },
    {
      "cell_type": "code",
      "source": [
        "sgd = tf.keras.optimizers.SGD(learning_rate=0.005)\n",
        "\n",
        "model.compile(optimizer=sgd,loss='categorical_crossentropy', metrics=['accuracy']) "
      ],
      "metadata": {
        "id": "pqfVPCr7KZgr"
      },
      "execution_count": null,
      "outputs": []
    },
    {
      "cell_type": "markdown",
      "source": [
        "### d) Train the network for 50  epochs (you may use mini-batch sizes of 32 (meaning that 32 images will be presented to the network at a time, and a full forward and backward pass will be done to update the parameters of the network). "
      ],
      "metadata": {
        "id": "BCe5-rtTV7Bc"
      }
    },
    {
      "cell_type": "code",
      "source": [
        "new_animal = model.fit(x_train, y_train, batch_size=32, epochs=50, validation_data=(x_test, y_test))"
      ],
      "metadata": {
        "colab": {
          "base_uri": "https://localhost:8080/"
        },
        "id": "4Qk2ncW-LyDN",
        "outputId": "2d65484b-e834-4edc-9e30-ac4cddcda4f6"
      },
      "execution_count": null,
      "outputs": [
        {
          "output_type": "stream",
          "name": "stdout",
          "text": [
            "Epoch 1/50\n",
            "75/75 [==============================] - 49s 650ms/step - loss: 1.0015 - accuracy: 0.4938 - val_loss: 0.9543 - val_accuracy: 0.4917\n",
            "Epoch 2/50\n",
            "75/75 [==============================] - 49s 659ms/step - loss: 0.9142 - accuracy: 0.5254 - val_loss: 0.9183 - val_accuracy: 0.5467\n",
            "Epoch 3/50\n",
            "75/75 [==============================] - 51s 674ms/step - loss: 0.8768 - accuracy: 0.5525 - val_loss: 0.8915 - val_accuracy: 0.5667\n",
            "Epoch 4/50\n",
            "75/75 [==============================] - 50s 668ms/step - loss: 0.8561 - accuracy: 0.5700 - val_loss: 0.9003 - val_accuracy: 0.5667\n",
            "Epoch 5/50\n",
            "75/75 [==============================] - 50s 668ms/step - loss: 0.8399 - accuracy: 0.5929 - val_loss: 0.8854 - val_accuracy: 0.5567\n",
            "Epoch 6/50\n",
            "75/75 [==============================] - 55s 740ms/step - loss: 0.8268 - accuracy: 0.5725 - val_loss: 0.8515 - val_accuracy: 0.5733\n",
            "Epoch 7/50\n",
            "75/75 [==============================] - 51s 674ms/step - loss: 0.8060 - accuracy: 0.6075 - val_loss: 0.8804 - val_accuracy: 0.5183\n",
            "Epoch 8/50\n",
            "75/75 [==============================] - 51s 675ms/step - loss: 0.7945 - accuracy: 0.6108 - val_loss: 0.8350 - val_accuracy: 0.5800\n",
            "Epoch 9/50\n",
            "75/75 [==============================] - 50s 671ms/step - loss: 0.8043 - accuracy: 0.6079 - val_loss: 0.8299 - val_accuracy: 0.5983\n",
            "Epoch 10/50\n",
            "75/75 [==============================] - 50s 672ms/step - loss: 0.7728 - accuracy: 0.6254 - val_loss: 0.8164 - val_accuracy: 0.5750\n",
            "Epoch 11/50\n",
            "75/75 [==============================] - 50s 671ms/step - loss: 0.7589 - accuracy: 0.6367 - val_loss: 0.8055 - val_accuracy: 0.6133\n",
            "Epoch 12/50\n",
            "75/75 [==============================] - 50s 666ms/step - loss: 0.7447 - accuracy: 0.6463 - val_loss: 1.0960 - val_accuracy: 0.4833\n",
            "Epoch 13/50\n",
            "75/75 [==============================] - 50s 667ms/step - loss: 0.7403 - accuracy: 0.6446 - val_loss: 0.7787 - val_accuracy: 0.6050\n",
            "Epoch 14/50\n",
            "75/75 [==============================] - 51s 677ms/step - loss: 0.7214 - accuracy: 0.6596 - val_loss: 0.7661 - val_accuracy: 0.6300\n",
            "Epoch 15/50\n",
            "75/75 [==============================] - 54s 725ms/step - loss: 0.7078 - accuracy: 0.6729 - val_loss: 0.7766 - val_accuracy: 0.6183\n",
            "Epoch 16/50\n",
            "75/75 [==============================] - 50s 661ms/step - loss: 0.7063 - accuracy: 0.6621 - val_loss: 0.7533 - val_accuracy: 0.6367\n",
            "Epoch 17/50\n",
            "75/75 [==============================] - 49s 657ms/step - loss: 0.6829 - accuracy: 0.6842 - val_loss: 0.7638 - val_accuracy: 0.6250\n",
            "Epoch 18/50\n",
            "75/75 [==============================] - 49s 657ms/step - loss: 0.6902 - accuracy: 0.6817 - val_loss: 0.7486 - val_accuracy: 0.6083\n",
            "Epoch 19/50\n",
            "75/75 [==============================] - 49s 655ms/step - loss: 0.6600 - accuracy: 0.6908 - val_loss: 0.7291 - val_accuracy: 0.6483\n",
            "Epoch 20/50\n",
            "75/75 [==============================] - 49s 654ms/step - loss: 0.6463 - accuracy: 0.7113 - val_loss: 0.7390 - val_accuracy: 0.6433\n",
            "Epoch 21/50\n",
            "75/75 [==============================] - 49s 656ms/step - loss: 0.6354 - accuracy: 0.7108 - val_loss: 0.7838 - val_accuracy: 0.5967\n",
            "Epoch 22/50\n",
            "75/75 [==============================] - 50s 663ms/step - loss: 0.6403 - accuracy: 0.7171 - val_loss: 0.7097 - val_accuracy: 0.6400\n",
            "Epoch 23/50\n",
            "75/75 [==============================] - 49s 657ms/step - loss: 0.6058 - accuracy: 0.7188 - val_loss: 0.9548 - val_accuracy: 0.5483\n",
            "Epoch 24/50\n",
            "75/75 [==============================] - 54s 722ms/step - loss: 0.5870 - accuracy: 0.7383 - val_loss: 0.9641 - val_accuracy: 0.5333\n",
            "Epoch 25/50\n",
            "75/75 [==============================] - 50s 661ms/step - loss: 0.5905 - accuracy: 0.7383 - val_loss: 0.7083 - val_accuracy: 0.6467\n",
            "Epoch 26/50\n",
            "75/75 [==============================] - 50s 667ms/step - loss: 0.5612 - accuracy: 0.7567 - val_loss: 0.7306 - val_accuracy: 0.6317\n",
            "Epoch 27/50\n",
            "75/75 [==============================] - 50s 667ms/step - loss: 0.5614 - accuracy: 0.7521 - val_loss: 0.7101 - val_accuracy: 0.6517\n",
            "Epoch 28/50\n",
            "75/75 [==============================] - 50s 661ms/step - loss: 0.5343 - accuracy: 0.7679 - val_loss: 0.7051 - val_accuracy: 0.6383\n",
            "Epoch 29/50\n",
            "75/75 [==============================] - 49s 657ms/step - loss: 0.5275 - accuracy: 0.7733 - val_loss: 0.7174 - val_accuracy: 0.6533\n",
            "Epoch 30/50\n",
            "75/75 [==============================] - 49s 657ms/step - loss: 0.5176 - accuracy: 0.7883 - val_loss: 0.7038 - val_accuracy: 0.6467\n",
            "Epoch 31/50\n",
            "75/75 [==============================] - 49s 659ms/step - loss: 0.4902 - accuracy: 0.7875 - val_loss: 0.7101 - val_accuracy: 0.6517\n",
            "Epoch 32/50\n",
            "75/75 [==============================] - 49s 656ms/step - loss: 0.4899 - accuracy: 0.7942 - val_loss: 0.7246 - val_accuracy: 0.6533\n",
            "Epoch 33/50\n",
            "75/75 [==============================] - 54s 716ms/step - loss: 0.4512 - accuracy: 0.8121 - val_loss: 0.7088 - val_accuracy: 0.6517\n",
            "Epoch 34/50\n",
            "75/75 [==============================] - 49s 655ms/step - loss: 0.4424 - accuracy: 0.8171 - val_loss: 0.7244 - val_accuracy: 0.6567\n",
            "Epoch 35/50\n",
            "75/75 [==============================] - 49s 656ms/step - loss: 0.4432 - accuracy: 0.8242 - val_loss: 0.7233 - val_accuracy: 0.6500\n",
            "Epoch 36/50\n",
            "75/75 [==============================] - 49s 653ms/step - loss: 0.4280 - accuracy: 0.8196 - val_loss: 0.7172 - val_accuracy: 0.6533\n",
            "Epoch 37/50\n",
            "75/75 [==============================] - 50s 665ms/step - loss: 0.3946 - accuracy: 0.8404 - val_loss: 0.7564 - val_accuracy: 0.6600\n",
            "Epoch 38/50\n",
            "75/75 [==============================] - 52s 697ms/step - loss: 0.3883 - accuracy: 0.8512 - val_loss: 0.7454 - val_accuracy: 0.6517\n",
            "Epoch 39/50\n",
            "75/75 [==============================] - 51s 682ms/step - loss: 0.3655 - accuracy: 0.8533 - val_loss: 0.7925 - val_accuracy: 0.6317\n",
            "Epoch 40/50\n",
            "75/75 [==============================] - 51s 677ms/step - loss: 0.3565 - accuracy: 0.8612 - val_loss: 0.7504 - val_accuracy: 0.6400\n",
            "Epoch 41/50\n",
            "75/75 [==============================] - 55s 740ms/step - loss: 0.3215 - accuracy: 0.8758 - val_loss: 0.7835 - val_accuracy: 0.6450\n",
            "Epoch 42/50\n",
            "75/75 [==============================] - 51s 678ms/step - loss: 0.3162 - accuracy: 0.8833 - val_loss: 0.7536 - val_accuracy: 0.6500\n",
            "Epoch 43/50\n",
            "75/75 [==============================] - 51s 677ms/step - loss: 0.3071 - accuracy: 0.8850 - val_loss: 0.8075 - val_accuracy: 0.6467\n",
            "Epoch 44/50\n",
            "75/75 [==============================] - 51s 679ms/step - loss: 0.2717 - accuracy: 0.8975 - val_loss: 0.7864 - val_accuracy: 0.6467\n",
            "Epoch 45/50\n",
            "75/75 [==============================] - 50s 669ms/step - loss: 0.2533 - accuracy: 0.9067 - val_loss: 0.7922 - val_accuracy: 0.6667\n",
            "Epoch 46/50\n",
            "75/75 [==============================] - 51s 678ms/step - loss: 0.2271 - accuracy: 0.9229 - val_loss: 0.8654 - val_accuracy: 0.6583\n",
            "Epoch 47/50\n",
            "75/75 [==============================] - 51s 680ms/step - loss: 0.2051 - accuracy: 0.9342 - val_loss: 0.8500 - val_accuracy: 0.6417\n",
            "Epoch 48/50\n",
            "75/75 [==============================] - 51s 674ms/step - loss: 0.1968 - accuracy: 0.9383 - val_loss: 0.8688 - val_accuracy: 0.6417\n",
            "Epoch 49/50\n",
            "75/75 [==============================] - 57s 765ms/step - loss: 0.1973 - accuracy: 0.9362 - val_loss: 0.8579 - val_accuracy: 0.6600\n",
            "Epoch 50/50\n",
            "75/75 [==============================] - 51s 674ms/step - loss: 0.1431 - accuracy: 0.9654 - val_loss: 0.9390 - val_accuracy: 0.6633\n"
          ]
        }
      ]
    },
    {
      "cell_type": "markdown",
      "source": [
        "### e) Serialize the network weights and optimizer state to disk (e.g., save the model  as  hdf5  format) "
      ],
      "metadata": {
        "id": "UqSx9iEVV0ED"
      }
    },
    {
      "cell_type": "code",
      "source": [
        "model.save('/content/drive/MyDrive/FINAL PROJECT/COSC 680_FINAL PROJECT/new_animals/new_animals.h5')"
      ],
      "metadata": {
        "id": "vNKCgNnxNRly"
      },
      "execution_count": null,
      "outputs": []
    },
    {
      "cell_type": "code",
      "source": [
        "# list all data in history\n",
        "print(new_animal.history.keys())"
      ],
      "metadata": {
        "id": "yJqZv62-onK0",
        "outputId": "3e73cc81-690e-4da2-f842-985d6a6198d6",
        "colab": {
          "base_uri": "https://localhost:8080/"
        }
      },
      "execution_count": null,
      "outputs": [
        {
          "output_type": "stream",
          "name": "stdout",
          "text": [
            "dict_keys(['loss', 'accuracy', 'val_loss', 'val_accuracy'])\n"
          ]
        }
      ]
    },
    {
      "cell_type": "markdown",
      "source": [
        "### f) Plot the accuracy and loss over time for both the training and testing data."
      ],
      "metadata": {
        "id": "ShIDJ8jzVrl1"
      }
    },
    {
      "cell_type": "code",
      "source": [
        "# summarize history for accuracy\n",
        "import matplotlib.pyplot as plt\n",
        "\n",
        "plt.plot(new_animal.history['accuracy'])\n",
        "plt.plot(new_animal.history['val_accuracy'])\n",
        "plt.title('model accuracy')\n",
        "plt.ylabel('accuracy')\n",
        "plt.xlabel('epoch')\n",
        "plt.legend(['train', 'test'], loc='upper left')\n",
        "plt.show()"
      ],
      "metadata": {
        "id": "kTEiSxS1oxH3",
        "outputId": "09d7afe8-c8aa-440c-98e2-57f251730a27",
        "colab": {
          "base_uri": "https://localhost:8080/",
          "height": 295
        }
      },
      "execution_count": null,
      "outputs": [
        {
          "output_type": "display_data",
          "data": {
            "text/plain": [
              "<Figure size 432x288 with 1 Axes>"
            ],
            "image/png": "[encoded data removed]"
          },
          "metadata": {
            "needs_background": "light"
          }
        }
      ]
    },
    {
      "cell_type": "code",
      "source": [
        "# summarize history for loss\n",
        "plt.plot(new_animal.history['loss'])\n",
        "plt.plot(new_animal.history['val_loss'])\n",
        "plt.title('model loss')\n",
        "plt.ylabel('loss')\n",
        "plt.xlabel('epoch')\n",
        "plt.legend(['train', 'test'], loc='upper left')\n",
        "plt.show()"
      ],
      "metadata": {
        "id": "o_rpCid-o92l",
        "outputId": "c55f2b57-b3d3-44d0-a70a-a94043f416c8",
        "colab": {
          "base_uri": "https://localhost:8080/",
          "height": 295
        }
      },
      "execution_count": null,
      "outputs": [
        {
          "output_type": "display_data",
          "data": {
            "text/plain": [
              "<Figure size 432x288 with 1 Axes>"
            ],
            "image/png": "[encoded data removed]"
          },
          "metadata": {
            "needs_background": "light"
          }
        }
      ]
    },
    {
      "cell_type": "code",
      "source": [
        "from tensorflow import keras\n",
        "model = keras.models.load_model('/content/drive/MyDrive/FINAL PROJECT/COSC 680_FINAL PROJECT/new_animals/new_animals.h5')"
      ],
      "metadata": {
        "id": "yZCVnIGwq66U"
      },
      "execution_count": null,
      "outputs": []
    },
    {
      "cell_type": "code",
      "source": [
        "model.evaluate(x_test,y_test,batch_size=32)"
      ],
      "metadata": {
        "colab": {
          "base_uri": "https://localhost:8080/"
        },
        "id": "3CGgYBl9Glu_",
        "outputId": "09f2d1b9-52d4-41df-f7ed-590f4bf4b1af"
      },
      "execution_count": null,
      "outputs": [
        {
          "output_type": "stream",
          "name": "stdout",
          "text": [
            "19/19 [==============================] - 4s 195ms/step - loss: 0.9390 - accuracy: 0.6633\n"
          ]
        },
        {
          "output_type": "execute_result",
          "data": {
            "text/plain": [
              "[0.9389747977256775, 0.6633333563804626]"
            ]
          },
          "metadata": {},
          "execution_count": 107
        }
      ]
    },
    {
      "cell_type": "markdown",
      "source": [
        "### g) Load the trained network (model) from disk  and classify images in the test set. Evaluate its performance as classification accuracy using classification_report  of sklearn.metrics library"
      ],
      "metadata": {
        "id": "cYVsFAyiVgSX"
      }
    },
    {
      "cell_type": "code",
      "source": [
        "import numpy as np\n",
        "import tensorflow as tf\n",
        "from tensorflow import keras\n",
        "from sklearn.metrics import accuracy_score,classification_report,confusion_matrix"
      ],
      "metadata": {
        "id": "Cc30Ixa5BnFD"
      },
      "execution_count": null,
      "outputs": []
    },
    {
      "cell_type": "code",
      "source": [
        "#predict\n",
        "y_test = np.argmax(y_test, axis=1)\n",
        "\n",
        "y_predicted = model.predict(x_test)\n",
        "y_predicted = np.argmax(y_predicted, axis=1)\n",
        "\n",
        "print(classification_report(y_predicted, y_test))"
      ],
      "metadata": {
        "colab": {
          "base_uri": "https://localhost:8080/"
        },
        "id": "8eCtT7KwTHCK",
        "outputId": "7c184556-3b8f-4b22-e554-bc2446bc2e66"
      },
      "execution_count": null,
      "outputs": [
        {
          "output_type": "stream",
          "name": "stdout",
          "text": [
            "19/19 [==============================] - 5s 243ms/step\n",
            "              precision    recall  f1-score   support\n",
            "\n",
            "           0       0.56      0.60      0.58       180\n",
            "           1       0.52      0.60      0.56       180\n",
            "           2       0.90      0.76      0.82       240\n",
            "\n",
            "    accuracy                           0.66       600\n",
            "   macro avg       0.66      0.65      0.65       600\n",
            "weighted avg       0.69      0.66      0.67       600\n",
            "\n"
          ]
        }
      ]
    },
    {
      "cell_type": "markdown",
      "source": [
        "### h) Compute the confusion matrix to evaluate the accuracy of a classification using sklearn.metrics.confusion_matrix.\n"
      ],
      "metadata": {
        "id": "Pv4kVJA9T5sH"
      }
    },
    {
      "cell_type": "code",
      "source": [
        "#get confusion matrix\n",
        "print(confusion_matrix(y_predicted,y_test))"
      ],
      "metadata": {
        "colab": {
          "base_uri": "https://localhost:8080/"
        },
        "id": "4hU_BMvGTm-i",
        "outputId": "dba72214-8b7c-4e69-a4e2-c6fa3a3abbd3"
      },
      "execution_count": null,
      "outputs": [
        {
          "output_type": "stream",
          "name": "stdout",
          "text": [
            "[[108  65   7]\n",
            " [ 59 108  13]\n",
            " [ 25  33 182]]\n"
          ]
        }
      ]
    }
  ]
}